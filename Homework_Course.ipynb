{
 "cells": [
  {
   "cell_type": "code",
   "execution_count": 2,
   "metadata": {},
   "outputs": [
    {
     "name": "stdin",
     "output_type": "stream",
     "text": [
      "Please enter names one by one to create a name list\n",
      "If you are done creating names please enter 'finish': hk\n",
      "Please enter names one by one to create a name list\n",
      "If you are done creating names please enter 'finish': finish\n"
     ]
    },
    {
     "name": "stdout",
     "output_type": "stream",
     "text": [
      "The name list has been successfully created = ['hk']\n"
     ]
    },
    {
     "name": "stdin",
     "output_type": "stream",
     "text": [
      "Please Enter your name surname: hkl\n"
     ]
    },
    {
     "name": "stdout",
     "output_type": "stream",
     "text": [
      "İncorrect name and surname\n"
     ]
    },
    {
     "name": "stdin",
     "output_type": "stream",
     "text": [
      "Please Enter your name surname: hk\n"
     ]
    },
    {
     "name": "stdout",
     "output_type": "stream",
     "text": [
      "Welcome, hk\n"
     ]
    },
    {
     "name": "stdin",
     "output_type": "stream",
     "text": [
      "Please enter course name to create course list\n",
      "If you are done creating courses please enter 'finish': mat\n",
      "Please enter course name to create course list\n",
      "If you are done creating courses please enter 'finish': mat\n",
      "Please enter course name to create course list\n",
      "If you are done creating courses please enter 'finish': mat\n",
      "Please enter course name to create course list\n",
      "If you are done creating courses please enter 'finish': finish\n"
     ]
    },
    {
     "name": "stdout",
     "output_type": "stream",
     "text": [
      "The course list has been successfully created.\n",
      "['mat', 'mat', 'mat']\n"
     ]
    },
    {
     "name": "stdin",
     "output_type": "stream",
     "text": [
      "Please choose a course from above: mat\n"
     ]
    },
    {
     "name": "stdout",
     "output_type": "stream",
     "text": [
      "You have chosen the mat course\n"
     ]
    },
    {
     "name": "stdin",
     "output_type": "stream",
     "text": [
      "Please enter your midterm score: 100\n",
      "Please enter your final score: 100\n",
      "Please enter your project score: 100\n"
     ]
    },
    {
     "name": "stdout",
     "output_type": "stream",
     "text": [
      "Your scores: {'midterm:': 100, 'final:': 100, 'project:': 100}\n",
      "Your grade is AA\n"
     ]
    }
   ],
   "source": [
    "#Creating the name list\n",
    "name_list = []\n",
    "while True:\n",
    "    names = str(input(\"Please enter names one by one to create a name list\\nIf you are done creating names please enter 'finish':\"))\n",
    "    if names != \"finish\":\n",
    "        name_list.append(names)\n",
    "    else:\n",
    "        print(\"The name list has been successfully created =\",name_list)\n",
    "        break\n",
    "\n",
    "#Student entry\n",
    "name_try = 0\n",
    "while True:\n",
    "    name = str(input(\"Please Enter your name surname:\"))\n",
    "    if name in name_list:\n",
    "        print(\"Welcome,\",name)\n",
    "        break \n",
    "    elif name_try == 2:\n",
    "        print(\"Please try again later\")\n",
    "        break\n",
    "    else:\n",
    "        name_try+=1\n",
    "        print(\"İncorrect name and surname\")\n",
    "\n",
    "\n",
    "#creating course list\n",
    "course_list = []\n",
    "while True:\n",
    "    course = str(input(\"Please enter course name to create course list\\nIf you are done creating courses please enter 'finish':\"))\n",
    "    if course == \"finish\":\n",
    "        print(\"The course list has been successfully created.\")\n",
    "        break\n",
    "    course_list.append(course)\n",
    "if len(course_list)<3:\n",
    "    print(\"You failed in class\")\n",
    "elif len(course_list)>5:\n",
    "    course_list = course_list[:5]\n",
    "    print(course_list)\n",
    "else:\n",
    "    print(course_list)\n",
    "\n",
    "###########################\n",
    "def print_my_grade(grade):\n",
    "    if grade >= 90 and grade <=100 :\n",
    "        print(\"Your grade is AA\")\n",
    "        \n",
    "    elif grade >=70 and grade <90 :\n",
    "        print(\"Your grade is BB\")\n",
    "        \n",
    "    elif grade >=50 and grade <70 :\n",
    "        print(\"Your grade is CC\")\n",
    "        \n",
    "    elif grade >=30 and grade <50 :\n",
    "        print(\"Your grade is DD\")\n",
    "        \n",
    "    elif grade >100 or grade <0 :\n",
    "        print(\"You entered invalid scores, please try again\")\n",
    "        \n",
    "    else:\n",
    "        print(\"Your grade is FF, you have failed\")\n",
    "        \n",
    "###########################\n",
    "         \n",
    "\n",
    "#choosing courses and getting grades\n",
    "while True:\n",
    "    chosen_course = str(input(\"Please choose a course from above:\"))\n",
    "    if chosen_course in course_list:\n",
    "        print(\"You have chosen the\",chosen_course,\"course\")\n",
    "        midterm = int(input(\"Please enter your midterm score:\"))\n",
    "        final = int(input(\"Please enter your final score:\"))\n",
    "        project = int(input(\"Please enter your project score:\"))\n",
    "        scores_dict = {\"midterm:\":midterm,\"final:\":final,\"project:\":project}\n",
    "        print(\"Your scores:\",scores_dict)\n",
    "        grade = midterm*0.30 + final*0.50 + project*0.20\n",
    "        print_my_grade(grade)\n",
    "        break\n",
    "    else:\n",
    "        print(\"Please choose a valid course\")\n",
    "        break"
   ]
  },
  {
   "cell_type": "code",
   "execution_count": null,
   "metadata": {},
   "outputs": [],
   "source": []
  },
  {
   "cell_type": "code",
   "execution_count": null,
   "metadata": {},
   "outputs": [],
   "source": []
  }
 ],
 "metadata": {
  "kernelspec": {
   "display_name": "Python 3",
   "language": "python",
   "name": "python3"
  },
  "language_info": {
   "codemirror_mode": {
    "name": "ipython",
    "version": 3
   },
   "file_extension": ".py",
   "mimetype": "text/x-python",
   "name": "python",
   "nbconvert_exporter": "python",
   "pygments_lexer": "ipython3",
   "version": "3.8.3"
  }
 },
 "nbformat": 4,
 "nbformat_minor": 4
}
