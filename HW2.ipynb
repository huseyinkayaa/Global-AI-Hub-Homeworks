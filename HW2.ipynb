{
 "cells": [
  {
   "cell_type": "code",
   "execution_count": 10,
   "metadata": {},
   "outputs": [
    {
     "name": "stdin",
     "output_type": "stream",
     "text": [
      "Adınızı giriniz: h\n",
      "Soyadınızı giriniz: k\n",
      "Yaşınızı giriniz: 25\n",
      "Doğum yılınızı giriniz: 1995\n"
     ]
    },
    {
     "name": "stdout",
     "output_type": "stream",
     "text": [
      "h\n",
      "k\n",
      "25\n",
      "1995\n",
      "You can go out to the street\n"
     ]
    }
   ],
   "source": [
    "ad= str(input(\"Adınızı giriniz:\"))\n",
    "soyad = str(input(\"Soyadınızı giriniz:\"))\n",
    "yas= int(input(\"Yaşınızı giriniz:\"))\n",
    "dy= int(input(\"Doğum yılınızı giriniz:\"))\n",
    "    \n",
    "liste = [ad,soyad,yas,dy]\n",
    "for i in liste:\n",
    "    print(i)\n",
    "if yas<18 :\n",
    "    print(\"You can't go out because it's too dangerous\")\n",
    "else:print(\"You can go out to the street\")"
   ]
  },
  {
   "cell_type": "code",
   "execution_count": null,
   "metadata": {},
   "outputs": [],
   "source": []
  }
 ],
 "metadata": {
  "kernelspec": {
   "display_name": "Python 3",
   "language": "python",
   "name": "python3"
  },
  "language_info": {
   "codemirror_mode": {
    "name": "ipython",
    "version": 3
   },
   "file_extension": ".py",
   "mimetype": "text/x-python",
   "name": "python",
   "nbconvert_exporter": "python",
   "pygments_lexer": "ipython3",
   "version": "3.8.3"
  }
 },
 "nbformat": 4,
 "nbformat_minor": 4
}
