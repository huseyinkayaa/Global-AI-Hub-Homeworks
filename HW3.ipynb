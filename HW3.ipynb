{
 "cells": [
  {
   "cell_type": "code",
   "execution_count": 12,
   "metadata": {},
   "outputs": [
    {
     "name": "stdin",
     "output_type": "stream",
     "text": [
      "Please enter your name :  hk\n"
     ]
    },
    {
     "name": "stdout",
     "output_type": "stream",
     "text": [
      "Welcome hk , i want to play a game!\n",
      "You can only make 3 wrong guesses\n",
      "Find the word i created for you\n",
      "*\n",
      "*\n",
      "*\n",
      "*\n",
      "*\n",
      "*\n",
      "*\n",
      "*\n",
      "*\n",
      "*\n",
      "*\n"
     ]
    },
    {
     "name": "stdin",
     "output_type": "stream",
     "text": [
      "guess a character: n\n"
     ]
    },
    {
     "name": "stdout",
     "output_type": "stream",
     "text": [
      "*\n",
      "*\n",
      "*\n",
      "*\n",
      "*\n",
      "*\n",
      "*\n",
      "*\n",
      "n\n",
      "*\n",
      "*\n"
     ]
    },
    {
     "name": "stdin",
     "output_type": "stream",
     "text": [
      "guess a character: b\n"
     ]
    },
    {
     "name": "stdout",
     "output_type": "stream",
     "text": [
      "Wrong answer\n",
      "You have 2 more guesses\n",
      "*\n",
      "*\n",
      "*\n",
      "*\n",
      "*\n",
      "*\n",
      "*\n",
      "*\n",
      "n\n",
      "*\n",
      "*\n"
     ]
    },
    {
     "name": "stdin",
     "output_type": "stream",
     "text": [
      "guess a character: p\n"
     ]
    },
    {
     "name": "stdout",
     "output_type": "stream",
     "text": [
      "*\n",
      "*\n",
      "*\n",
      "*\n",
      "p\n",
      "*\n",
      "*\n",
      "*\n",
      "n\n",
      "*\n",
      "*\n"
     ]
    },
    {
     "name": "stdin",
     "output_type": "stream",
     "text": [
      "guess a character: o\n"
     ]
    },
    {
     "name": "stdout",
     "output_type": "stream",
     "text": [
      "*\n",
      "*\n",
      "*\n",
      "*\n",
      "p\n",
      "*\n",
      "*\n",
      "o\n",
      "n\n",
      "*\n",
      "*\n"
     ]
    },
    {
     "name": "stdin",
     "output_type": "stream",
     "text": [
      "guess a character: ı\n"
     ]
    },
    {
     "name": "stdout",
     "output_type": "stream",
     "text": [
      "Wrong answer\n",
      "You have 1 more guesses\n",
      "*\n",
      "*\n",
      "*\n",
      "*\n",
      "p\n",
      "*\n",
      "*\n",
      "o\n",
      "n\n",
      "*\n",
      "*\n"
     ]
    },
    {
     "name": "stdin",
     "output_type": "stream",
     "text": [
      "guess a character: ı\n"
     ]
    },
    {
     "name": "stdout",
     "output_type": "stream",
     "text": [
      "Wrong answer\n",
      "You have 0 more guesses\n",
      "Loserrrrr!!!\n"
     ]
    }
   ],
   "source": [
    "name = str(input(\"Please enter your name : \"))\n",
    "print(\"Welcome\",name,\", i want to play a game!\")\n",
    "print(\"You can only make 3 wrong guesses\\nFind the word i created for you\")\n",
    "\n",
    "word = \"exceptional\"\n",
    "guesses = ''\n",
    "turns=3\n",
    "\n",
    "while turns > 0:\n",
    "    char_count = 0            \n",
    "    for i in word:      \n",
    "        if i in guesses:    \n",
    "            print(i)    \n",
    "        else:\n",
    "            print (\"*\")\n",
    "            char_count += 1\n",
    "    if char_count == 0:        \n",
    "        print (\"You won the game\")\n",
    "        break\n",
    "    \n",
    "    guess = str(input(\"guess a character:\"))\n",
    "    guesses += guess                    \n",
    "\n",
    "    if guess not in word:  \n",
    "        turns -= 1        \n",
    "        print (\"Wrong answer\")\n",
    "        print (\"You have\", + turns, 'more guesses') \n",
    "        if turns == 0:           \n",
    "            print(\"Loserrrrr!!!\")"
   ]
  },
  {
   "cell_type": "code",
   "execution_count": null,
   "metadata": {},
   "outputs": [],
   "source": []
  },
  {
   "cell_type": "code",
   "execution_count": null,
   "metadata": {},
   "outputs": [],
   "source": []
  },
  {
   "cell_type": "code",
   "execution_count": null,
   "metadata": {},
   "outputs": [],
   "source": []
  },
  {
   "cell_type": "code",
   "execution_count": null,
   "metadata": {},
   "outputs": [],
   "source": []
  },
  {
   "cell_type": "code",
   "execution_count": null,
   "metadata": {},
   "outputs": [],
   "source": []
  },
  {
   "cell_type": "code",
   "execution_count": null,
   "metadata": {},
   "outputs": [],
   "source": []
  }
 ],
 "metadata": {
  "kernelspec": {
   "display_name": "Python 3",
   "language": "python",
   "name": "python3"
  },
  "language_info": {
   "codemirror_mode": {
    "name": "ipython",
    "version": 3
   },
   "file_extension": ".py",
   "mimetype": "text/x-python",
   "name": "python",
   "nbconvert_exporter": "python",
   "pygments_lexer": "ipython3",
   "version": "3.8.3"
  }
 },
 "nbformat": 4,
 "nbformat_minor": 4
}
